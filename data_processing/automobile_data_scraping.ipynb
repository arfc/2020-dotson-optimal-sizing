{
 "cells": [
  {
   "cell_type": "markdown",
   "metadata": {},
   "source": [
    "# Vehicle Data Scraping"
   ]
  },
  {
   "cell_type": "markdown",
   "metadata": {},
   "source": [
    "Source: https://pythoninoffice.com/get-table-data-from-web-page-using-python-pandas/\n",
    "        https://pandas.pydata.org/pandas-docs/stable/reference/api/pandas.DataFrame.notna.html#pandas.DataFrame.notna  \n",
    "        https://www.fueleconomy.gov/feg/PowerSearch"
   ]
  },
  {
   "cell_type": "code",
   "execution_count": 17,
   "metadata": {},
   "outputs": [],
   "source": [
    "import pandas as pd\n",
    "import numpy as np\n",
    "import re\n",
    "import bs4 as bs\n",
    "import requests"
   ]
  },
  {
   "cell_type": "markdown",
   "metadata": {},
   "source": [
    "fueleconomy.gov has tabulated data for all kinds of automobiles. Let's use the `read_html` function in `pandas` to scrape the website for this data. Notice these URLs are quite long. This is because I have several filters from the powersearch feature on the website activated to exclude luxury vehicle brands and focus on vehicle types that are in the UIUC fleet."
   ]
  },
  {
   "cell_type": "code",
   "execution_count": 196,
   "metadata": {},
   "outputs": [],
   "source": [
    "diesel_url = 'https://www.fueleconomy.gov/feg/PowerSearch.do?action=PowerSearch&year1=2018&year2=2021&cbmkAcura=Acura&cbmkBYD=BYD&cbmkChevrolet=Chevrolet&cbmkChrysler=Chrysler&cbmkDodge=Dodge&cbmkFiat=Fiat&cbmkFord=Ford&cbmkGMC=GMC&cbmkHonda=Honda&cbmkHyundai=Hyundai&cbmkJeep=Jeep&cbmkKia=Kia&cbmkMazda=Mazda&cbmkMitsubishi=Mitsubishi&cbmkNissan=Nissan&cbmkRam=Ram&cbmkSubaru=Subaru&cbmkToyota=Toyota&cbmkVolkswagen=Volkswagen&cbmkVolvo=Volvo&cbmcfamilySedans=Family+Sedans&cbmclargeSedans=Large+Sedans&cbmcpickupTrucks=Pickup+Trucks&cbmcsportUtilityVehicles=Sport+Utility+Vehicles&cbmcminivans=Minivans&cbmcvans=Vans&minmsrpsel=0&maxmsrpsel=0&city=0&highway=0&combined=0&cbftdiesel=Diesel&YearSel=2018-2021&MakeSel=Acura%3B+BYD%3B+Chevrolet%3B+Chrysler%3B+Dodge%3B+Fiat%3B+Ford%3B+GMC%3B+Honda%3B+Hyundai%3B+Jeep%3B+Kia%3B+Mazda%3B+Mitsubishi%3B+Nissan%3B+Ram%3B+Subaru%3B+Toyota%3B+Volkswagen%3B+Volvo&MarClassSel=Family+Sedans%2C+Large+Sedans%2C+Pickup+Trucks%2C+Sport+Utility+Vehicles%2C+Minivans%2C+Vans&FuelTypeSel=Diesel&VehTypeSel=&TranySel=&DriveTypeSel=&CylindersSel=&MpgSel=000&sortBy=Comb&Units=&url=SearchServlet&opt=new&minmsrp=0&maxmsrp=0&minmpg=0&maxmpg=0&sCharge=&tCharge=&startstop=&cylDeact=&rowLimit=200'\n",
    "electric_url = 'https://www.fueleconomy.gov/feg/PowerSearch.do?action=PowerSearch&year1=2018&year2=2021&cbmkAcura=Acura&cbmkBYD=BYD&cbmkChevrolet=Chevrolet&cbmkChrysler=Chrysler&cbmkDodge=Dodge&cbmkFiat=Fiat&cbmkFord=Ford&cbmkGMC=GMC&cbmkHonda=Honda&cbmkHyundai=Hyundai&cbmkJeep=Jeep&cbmkKia=Kia&cbmkMazda=Mazda&cbmkMitsubishi=Mitsubishi&cbmkNissan=Nissan&cbmkRam=Ram&cbmkSubaru=Subaru&cbmkToyota=Toyota&cbmkVolkswagen=Volkswagen&cbmkVolvo=Volvo&cbmcfamilySedans=Family+Sedans&cbmclargeSedans=Large+Sedans&cbmcpickupTrucks=Pickup+Trucks&cbmcsportUtilityVehicles=Sport+Utility+Vehicles&cbmcminivans=Minivans&cbmcvans=Vans&minmsrpsel=0&maxmsrpsel=0&city=0&highway=0&combined=0&cbvtelectric=Electric&YearSel=2018-2021&MakeSel=Acura%3B+BYD%3B+Chevrolet%3B+Chrysler%3B+Dodge%3B+Fiat%3B+Ford%3B+GMC%3B+Honda%3B+Hyundai%3B+Jeep%3B+Kia%3B+Mazda%3B+Mitsubishi%3B+Nissan%3B+Ram%3B+Subaru%3B+Toyota%3B+Volkswagen%3B+Volvo&MarClassSel=Family+Sedans%2C+Large+Sedans%2C+Pickup+Trucks%2C+Sport+Utility+Vehicles%2C+Minivans%2C+Vans&FuelTypeSel=&VehTypeSel=Electric&TranySel=&DriveTypeSel=&CylindersSel=&MpgSel=000&sortBy=Comb&Units=&url=SearchServlet&opt=new&minmsrp=0&maxmsrp=0&minmpg=0&maxmpg=0&sCharge=&tCharge=&startstop=&cylDeact=&rowLimit=200'\n",
    "e85_url = 'https://www.fueleconomy.gov/feg/PowerSearch.do?action=PowerSearch&year1=2018&year2=2021&cbmkAcura=Acura&cbmkBYD=BYD&cbmkChevrolet=Chevrolet&cbmkChrysler=Chrysler&cbmkDodge=Dodge&cbmkFiat=Fiat&cbmkFord=Ford&cbmkGMC=GMC&cbmkHonda=Honda&cbmkHyundai=Hyundai&cbmkJeep=Jeep&cbmkKia=Kia&cbmkMazda=Mazda&cbmkMitsubishi=Mitsubishi&cbmkNissan=Nissan&cbmkRam=Ram&cbmkSubaru=Subaru&cbmkToyota=Toyota&cbmkVolkswagen=Volkswagen&cbmkVolvo=Volvo&cbmcfamilySedans=Family+Sedans&cbmclargeSedans=Large+Sedans&cbmcpickupTrucks=Pickup+Trucks&cbmcsportUtilityVehicles=Sport+Utility+Vehicles&cbmcminivans=Minivans&cbmcvans=Vans&minmsrpsel=0&maxmsrpsel=0&city=0&highway=0&combined=0&cbfte85=E85&YearSel=2018-2021&MakeSel=Acura%3B+BYD%3B+Chevrolet%3B+Chrysler%3B+Dodge%3B+Fiat%3B+Ford%3B+GMC%3B+Honda%3B+Hyundai%3B+Jeep%3B+Kia%3B+Mazda%3B+Mitsubishi%3B+Nissan%3B+Ram%3B+Subaru%3B+Toyota%3B+Volkswagen%3B+Volvo&MarClassSel=Family+Sedans%2C+Large+Sedans%2C+Pickup+Trucks%2C+Sport+Utility+Vehicles%2C+Minivans%2C+Vans&FuelTypeSel=E85&VehTypeSel=&TranySel=&DriveTypeSel=&CylindersSel=&MpgSel=000&sortBy=Comb&Units=&url=SearchServlet&opt=new&minmsrp=0&maxmsrp=0&minmpg=0&maxmpg=0&sCharge=&tCharge=&startstop=&cylDeact=&rowLimit=200'\n",
    "gasoline_url = 'https://www.fueleconomy.gov/feg/PowerSearch.do?action=PowerSearch&year1=2018&year2=2021&cbmkAcura=Acura&cbmkBYD=BYD&cbmkChevrolet=Chevrolet&cbmkChrysler=Chrysler&cbmkDodge=Dodge&cbmkFiat=Fiat&cbmkFord=Ford&cbmkGMC=GMC&cbmkHonda=Honda&cbmkHyundai=Hyundai&cbmkJeep=Jeep&cbmkKia=Kia&cbmkMazda=Mazda&cbmkMitsubishi=Mitsubishi&cbmkNissan=Nissan&cbmkRam=Ram&cbmkSubaru=Subaru&cbmkToyota=Toyota&cbmkVolkswagen=Volkswagen&cbmkVolvo=Volvo&cbmcfamilySedans=Family+Sedans&cbmclargeSedans=Large+Sedans&cbmcpickupTrucks=Pickup+Trucks&cbmcsportUtilityVehicles=Sport+Utility+Vehicles&cbmcminivans=Minivans&cbmcvans=Vans&minmsrpsel=0&maxmsrpsel=0&city=0&highway=0&combined=0&cbvtgasoline=Gasoline&YearSel=2018-2021&MakeSel=Acura%3B+BYD%3B+Chevrolet%3B+Chrysler%3B+Dodge%3B+Fiat%3B+Ford%3B+GMC%3B+Honda%3B+Hyundai%3B+Jeep%3B+Kia%3B+Mazda%3B+Mitsubishi%3B+Nissan%3B+Ram%3B+Subaru%3B+Toyota%3B+Volkswagen%3B+Volvo&MarClassSel=Family+Sedans%2C+Large+Sedans%2C+Pickup+Trucks%2C+Sport+Utility+Vehicles%2C+Minivans%2C+Vans&FuelTypeSel=&VehTypeSel=Gasoline&TranySel=&DriveTypeSel=&CylindersSel=&MpgSel=000&sortBy=Comb&Units=&url=SearchServlet&opt=new&minmsrp=0&maxmsrp=0&minmpg=0&maxmpg=0&sCharge=&tCharge=&startstop=&cylDeact=&rowLimit=1453'\n",
    "\n",
    "diesel = pd.read_html(diesel_url)\n",
    "electric = pd.read_html(electric_url)\n",
    "e85 = pd.read_html(e85_url)\n",
    "gasoline = pd.read_html(gasoline_url)"
   ]
  },
  {
   "cell_type": "markdown",
   "metadata": {},
   "source": [
    "The web-scraped data has all kinds of formatting issues in pandas, so we will need to clean it up a bit. I wrote the following functions to do exactly this."
   ]
  },
  {
   "cell_type": "code",
   "execution_count": 45,
   "metadata": {},
   "outputs": [],
   "source": [
    "def convert_to_string (arr):\n",
    "    \"\"\"\n",
    "    This function converts object arrays to string arrays\n",
    "    \n",
    "    Parameters:\n",
    "    -----------\n",
    "    arr : array of objects\n",
    "    \n",
    "    Returns:\n",
    "    --------\n",
    "    str_arr : float\n",
    "            Array of strings\n",
    "            \n",
    "    \"\"\"\n",
    "    str_arr = np.array([])\n",
    "    for a in arr:\n",
    "        str_arr = np.append(str_arr, str(a))\n",
    "    return str_arr\n",
    "\n",
    "\n",
    "def split_dash (s):\n",
    "    \"\"\"\n",
    "    This function splits a string along any dashes it might have.\n",
    "    \n",
    "    Parameters:\n",
    "    -----------\n",
    "    s : string\n",
    "    \n",
    "    Returns:\n",
    "    --------\n",
    "    s_arr : strings\n",
    "            Array of strings\n",
    "    \"\"\"\n",
    "    return re.split('[–]', s)\n",
    "\n",
    "\n",
    "def split_slash (s):\n",
    "    \"\"\"\n",
    "    This function splits a string along any forward slashes it might have.\n",
    "    \n",
    "    Parameters:\n",
    "    -----------\n",
    "    s : string\n",
    "    \n",
    "    Returns:\n",
    "    --------\n",
    "    s_arr : strings\n",
    "            Array of strings\n",
    "    \"\"\"\n",
    "    return re.split('[/]', s)\n",
    "\n",
    "def split_gal (s):\n",
    "    \"\"\"\n",
    "    This function splits a string along 'gal' substrings\n",
    "    \n",
    "    Parameters:\n",
    "    -----------\n",
    "    s : string\n",
    "    \n",
    "    Returns:\n",
    "    --------\n",
    "    s_arr : strings\n",
    "            Array of strings\n",
    "    \"\"\"\n",
    "    return re.split('[gal]', s)"
   ]
  },
  {
   "cell_type": "code",
   "execution_count": 40,
   "metadata": {},
   "outputs": [],
   "source": [
    "def get_avg_msrp (df):\n",
    "    \"\"\"\n",
    "    This function takes the data table fron fueleconomy.gov\n",
    "    and returns the average of the MSRP values listed there.\n",
    "    \n",
    "    Parameters:\n",
    "    -----------\n",
    "    df : pandas dataframe\n",
    "        THe return value of pd.read_html()\n",
    "    \n",
    "    Returns:\n",
    "    --------\n",
    "    avg : float\n",
    "        Average of the MSRP data\n",
    "        \n",
    "    \"\"\"\n",
    "    \n",
    "    # Get rid of NaN MSRP values\n",
    "    df = df[df['MSRP'].notna()]\n",
    "    \n",
    "    # Pick out MSRP entries that have a dollar sign\n",
    "    df = df[df['MSRP'].str.contains('\\$')]\n",
    "    \n",
    "    # Convert these to string form\n",
    "    msrp_string = convert_to_string(df['MSRP'].values)\n",
    "    \n",
    "    # Many of the MSRPs are a given as a range between a lower and upper limit\n",
    "    # of values. We want to take the average of this range.\n",
    "    msrp_string = map(split_dash, msrp_string)\n",
    "    msrp_num = np.array([])\n",
    "    for s in msrp_string:\n",
    "        if (len(s) == 2):\n",
    "            s[0] = float(s[0][1:].replace(',',''))\n",
    "            s[1] = float(s[1][1:].replace(',',''))\n",
    "            s = (s[0] + s[1]) / 2\n",
    "        else:\n",
    "            s = float(s[0][1:].replace (',',''))\n",
    "            \n",
    "        msrp_num = np.append(msrp_num, s)\n",
    "            \n",
    "    return np.average(msrp_num)\n",
    "    "
   ]
  },
  {
   "cell_type": "code",
   "execution_count": 120,
   "metadata": {},
   "outputs": [],
   "source": [
    "def get_avg_mileage (df):\n",
    "    \"\"\"\n",
    "    This function takes the data table fron fueleconomy.gov\n",
    "    and returns the average of the mileage (gal/100mi)\n",
    "    listed there.\n",
    "    \n",
    "    Parameters:\n",
    "    -----------\n",
    "    df : pandas dataframe\n",
    "        The return value of pd.read_html()\n",
    "    \n",
    "    Returns:\n",
    "    --------\n",
    "    avg : float\n",
    "        Average of the mileage data\n",
    "        \n",
    "    \"\"\"\n",
    "    \n",
    "    # Get rid of NaN mileage values\n",
    "    df = df[df['DriverMPG'].notna()]\n",
    "    \n",
    "    # Pick out mileage entries in the gal/100 mi formal\n",
    "    df = df[df['DriverMPG'].str.contains('/100')]\n",
    "    \n",
    "    # Convert these to string form\n",
    "    mileage_string = convert_to_string(df['DriverMPG'].values)\n",
    "    \n",
    "    mileage_num = np.array([])\n",
    "    for s in mileage_string:\n",
    "        mileage_num = np.append(mileage_num, float(re.split('[ gal]', s)[0]))\n",
    "            \n",
    "    return np.average(mileage_num)"
   ]
  },
  {
   "cell_type": "markdown",
   "metadata": {},
   "source": [
    "With our functions defined and ready to go, we just need to call them with the relevant vehicle data:"
   ]
  },
  {
   "cell_type": "markdown",
   "metadata": {},
   "source": [
    "# MSRP"
   ]
  },
  {
   "cell_type": "code",
   "execution_count": 144,
   "metadata": {},
   "outputs": [
    {
     "name": "stdout",
     "output_type": "stream",
     "text": [
      "Diesel: 0.037713125 M$\n",
      "Electric: $0.04111 M$\n",
      "E85: $0.043864098837209306 M$\n",
      "Gasoline: $0.023870937499999998 M$\n"
     ]
    }
   ],
   "source": [
    "diesel_msrp = 1e-6 * get_avg_msrp(diesel)\n",
    "electric_msrp = 1e-6 * get_avg_msrp(electric)\n",
    "e85_msrp = 1e-6 * get_avg_msrp(e85)\n",
    "gasoline_msrp = 1e-6 * get_avg_msrp(gasoline)\n",
    "\n",
    "print(f'Diesel: {diesel_msrp} M$')\n",
    "print(f'Electric: ${electric_msrp} M$')\n",
    "print(f'E85: ${e85_msrp} M$')\n",
    "print(f'Gasoline: ${gasoline_msrp} M$')"
   ]
  },
  {
   "cell_type": "markdown",
   "metadata": {},
   "source": [
    "# Mileage"
   ]
  },
  {
   "cell_type": "code",
   "execution_count": 138,
   "metadata": {},
   "outputs": [
    {
     "name": "stdout",
     "output_type": "stream",
     "text": [
      "Diesel: 4.1329268292682935gal/100mi\n",
      "E85: 6.300387596899225gal/100mi\n",
      "Gasoline: 6.300387596899225gal/100mi\n"
     ]
    }
   ],
   "source": [
    "diesel_mileage = get_avg_mileage(diesel)\n",
    "e85_mileage = get_avg_mileage(e85) #gallons per 100 miles\n",
    "gasoline_mileage = get_avg_mileage(e85) #gallons per 100 miles\n",
    "\n",
    "print(f'Diesel: {diesel_mileage}gal/100mi')\n",
    "print(f'E85: {e85_mileage}gal/100mi')\n",
    "print(f'Gasoline: {gasoline_mileage}gal/100mi')"
   ]
  },
  {
   "cell_type": "markdown",
   "metadata": {},
   "source": [
    "# CostInvest"
   ]
  },
  {
   "cell_type": "code",
   "execution_count": 151,
   "metadata": {},
   "outputs": [
    {
     "name": "stdout",
     "output_type": "stream",
     "text": [
      "Diesel :5.0707628463053045e-06 M$/gal\n",
      "E85: 3.8688370571560025e-06 M$/gal\n",
      "Gasoline: 2.105429497863371e-06 M$/gal\n"
     ]
    }
   ],
   "source": [
    "IMPGSL = 0.00222 #M$/kgal\n",
    "IMPDSL = 0.00248 #M$/kgal\n",
    "IMPE85 = 0.00199 #M$/kgal\n",
    "lifetime_mileage = 179954 #[1]\n",
    "\n",
    "diesel_cost = diesel_msrp / (diesel_mileage*lifetime_mileage/100)\n",
    "e85_cost = e85_msrp / (e85_mileage*lifetime_mileage/100)\n",
    "gasoline_cost = gasoline_msrp / (gasoline_mileage*lifetime_mileage/100)\n",
    "\n",
    "print(f'Diesel :{diesel_cost} M$/gal')\n",
    "print(f'E85: {e85_cost} M$/gal')\n",
    "print(f'Gasoline: {gasoline_cost} M$/gal')"
   ]
  },
  {
   "cell_type": "markdown",
   "metadata": {},
   "source": [
    "# CostFixed"
   ]
  },
  {
   "cell_type": "code",
   "execution_count": 132,
   "metadata": {},
   "outputs": [
    {
     "data": {
      "text/plain": [
       "2.9699999999999998"
      ]
     },
     "execution_count": 132,
     "metadata": {},
     "output_type": "execute_result"
    }
   ],
   "source": [
    "#assume fixed costs are 5% of MSRP annually\n",
    "diesel_fixed = 1e-3 * 0.05 * diesel_msrp\n",
    "electric_fixed = 1e-3 * 0.05 * electric_msrp\n",
    "e85_fixed = 1e-3 * 0.05 * e85_msrp\n",
    "gasoline_fixed = 1e-3 * 0.05 * gasoline_msrp\n",
    "\n",
    "print(f':{_fixed} M$')\n",
    "print(f':{_cost} M$')\n",
    "print(f':{_cost} M$')"
   ]
  },
  {
   "cell_type": "code",
   "execution_count": 142,
   "metadata": {},
   "outputs": [
    {
     "data": {
      "text/plain": [
       "11337.799496124031"
      ]
     },
     "execution_count": 142,
     "metadata": {},
     "output_type": "execute_result"
    }
   ],
   "source": [
    "(e85_mileage*lifetime_mileage/100)"
   ]
  },
  {
   "cell_type": "code",
   "execution_count": 8,
   "metadata": {},
   "outputs": [
    {
     "data": {
      "text/plain": [
       "'2019 Chevrolet Equinox FWD 1.6 L, 4 cyl, Automatic 6-spd, Turbo, Diesel'"
      ]
     },
     "execution_count": 8,
     "metadata": {},
     "output_type": "execute_result"
    }
   ],
   "source": [
    "diesel.loc[0]['Vehicle']"
   ]
  },
  {
   "cell_type": "markdown",
   "metadata": {},
   "source": [
    "## References\n",
    "\n",
    "1. US DOT. Vehicle Survivability and Travel Mileage Schedules. Technical Report. National Center for Statistics and Analysis. 2006. [link](https://crashstats.nhtsa.dot.gov/Api/Public/ViewPublication/809952)"
   ]
  },
  {
   "cell_type": "code",
   "execution_count": 32,
   "metadata": {},
   "outputs": [
    {
     "ename": "IndexError",
     "evalue": "list index out of range",
     "output_type": "error",
     "traceback": [
      "\u001b[0;31m---------------------------------------------------------------------------\u001b[0m",
      "\u001b[0;31mIndexError\u001b[0m                                Traceback (most recent call last)",
      "\u001b[0;32m<ipython-input-32-1057a7e969c5>\u001b[0m in \u001b[0;36m<module>\u001b[0;34m\u001b[0m\n\u001b[0;32m----> 1\u001b[0;31m \u001b[0mtest\u001b[0m \u001b[0;34m=\u001b[0m \u001b[0mpd\u001b[0m\u001b[0;34m.\u001b[0m\u001b[0mread_html\u001b[0m\u001b[0;34m(\u001b[0m\u001b[0;34m'https://www.fueleconomy.gov/feg/Find.do?action=sbs&id=43270'\u001b[0m\u001b[0;34m)\u001b[0m\u001b[0;34m[\u001b[0m\u001b[0;36m7\u001b[0m\u001b[0;34m]\u001b[0m\u001b[0;34m\u001b[0m\u001b[0;34m\u001b[0m\u001b[0m\n\u001b[0m",
      "\u001b[0;31mIndexError\u001b[0m: list index out of range"
     ]
    }
   ],
   "source": [
    "test = pd.read_html('https://www.fueleconomy.gov/feg/Find.do?action=sbs&id=43270')[7]"
   ]
  },
  {
   "cell_type": "code",
   "execution_count": null,
   "metadata": {},
   "outputs": [],
   "source": [
    "test"
   ]
  },
  {
   "cell_type": "code",
   "execution_count": 3,
   "metadata": {},
   "outputs": [],
   "source": [
    "diesel = pd.read_html('https://www.fueleconomy.gov/feg/PowerSearch.do?action=PowerSearch&year1=2018&year2=2021&cbmkAcura=Acura&cbmkBYD=BYD&cbmkChevrolet=Chevrolet&cbmkChrysler=Chrysler&cbmkDodge=Dodge&cbmkFiat=Fiat&cbmkFord=Ford&cbmkGMC=GMC&cbmkHonda=Honda&cbmkHyundai=Hyundai&cbmkJeep=Jeep&cbmkKia=Kia&cbmkMazda=Mazda&cbmkMitsubishi=Mitsubishi&cbmkNissan=Nissan&cbmkRam=Ram&cbmkSubaru=Subaru&cbmkToyota=Toyota&cbmkVolkswagen=Volkswagen&cbmkVolvo=Volvo&cbmcfamilySedans=Family+Sedans&cbmclargeSedans=Large+Sedans&cbmcpickupTrucks=Pickup+Trucks&cbmcsportUtilityVehicles=Sport+Utility+Vehicles&cbmcminivans=Minivans&cbmcvans=Vans&minmsrpsel=0&maxmsrpsel=0&city=0&highway=0&combined=0&cbftdiesel=Diesel&YearSel=2018-2021&MakeSel=Acura%3B+BYD%3B+Chevrolet%3B+Chrysler%3B+Dodge%3B+Fiat%3B+Ford%3B+GMC%3B+Honda%3B+Hyundai%3B+Jeep%3B+Kia%3B+Mazda%3B+Mitsubishi%3B+Nissan%3B+Ram%3B+Subaru%3B+Toyota%3B+Volkswagen%3B+Volvo&MarClassSel=Family+Sedans%2C+Large+Sedans%2C+Pickup+Trucks%2C+Sport+Utility+Vehicles%2C+Minivans%2C+Vans&FuelTypeSel=Diesel&VehTypeSel=&TranySel=&DriveTypeSel=&CylindersSel=&MpgSel=000&sortBy=Comb&Units=&url=SearchServlet&opt=new&minmsrp=0&maxmsrp=0&minmpg=0&maxmpg=0&sCharge=&tCharge=&startstop=&cylDeact=&rowLimit=200')"
   ]
  },
  {
   "cell_type": "code",
   "execution_count": 45,
   "metadata": {},
   "outputs": [
    {
     "data": {
      "text/html": [
       "<div>\n",
       "<style scoped>\n",
       "    .dataframe tbody tr th:only-of-type {\n",
       "        vertical-align: middle;\n",
       "    }\n",
       "\n",
       "    .dataframe tbody tr th {\n",
       "        vertical-align: top;\n",
       "    }\n",
       "\n",
       "    .dataframe thead th {\n",
       "        text-align: right;\n",
       "    }\n",
       "</style>\n",
       "<table border=\"1\" class=\"dataframe\">\n",
       "  <thead>\n",
       "    <tr style=\"text-align: right;\">\n",
       "      <th></th>\n",
       "      <th>Vehicle</th>\n",
       "      <th>EPA Fuel Economy</th>\n",
       "      <th>DriverMPG</th>\n",
       "      <th>Unnamed: 3</th>\n",
       "      <th>AnnualFuelCost</th>\n",
       "      <th>MSRP</th>\n",
       "      <th>EnergyImpactScore</th>\n",
       "      <th>GreenhouseGasEmissions(tailpipe)</th>\n",
       "    </tr>\n",
       "  </thead>\n",
       "  <tbody>\n",
       "    <tr>\n",
       "      <th>0</th>\n",
       "      <td>2019 Chevrolet Equinox FWD 1.6 L, 4 cyl, Autom...</td>\n",
       "      <td>2019 Chevrolet Equinox FWD 1.6 L, 4 cyl, Autom...</td>\n",
       "      <td>2019 Chevrolet Equinox FWD 1.6 L, 4 cyl, Autom...</td>\n",
       "      <td>2019 Chevrolet Equinox FWD 1.6 L, 4 cyl, Autom...</td>\n",
       "      <td>2019 Chevrolet Equinox FWD 1.6 L, 4 cyl, Autom...</td>\n",
       "      <td>2019 Chevrolet Equinox FWD 1.6 L, 4 cyl, Autom...</td>\n",
       "      <td>2019 Chevrolet Equinox FWD 1.6 L, 4 cyl, Autom...</td>\n",
       "      <td>2019 Chevrolet Equinox FWD 1.6 L, 4 cyl, Autom...</td>\n",
       "    </tr>\n",
       "    <tr>\n",
       "      <th>1</th>\n",
       "      <td>NaN</td>\n",
       "      <td>32  MPG  28  39  combined city/hwy  city  hwy ...</td>\n",
       "      <td>NaN</td>\n",
       "      <td>NaN</td>\n",
       "      <td>$1,300</td>\n",
       "      <td>$23,800–$33,900</td>\n",
       "      <td>11.9 barrels/yr</td>\n",
       "      <td>321 grams/mile</td>\n",
       "    </tr>\n",
       "    <tr>\n",
       "      <th>2</th>\n",
       "      <td>NaN</td>\n",
       "      <td>32</td>\n",
       "      <td>MPG</td>\n",
       "      <td>MPG</td>\n",
       "      <td>NaN</td>\n",
       "      <td>NaN</td>\n",
       "      <td>NaN</td>\n",
       "      <td>NaN</td>\n",
       "    </tr>\n",
       "    <tr>\n",
       "      <th>3</th>\n",
       "      <td>NaN</td>\n",
       "      <td>32</td>\n",
       "      <td>28</td>\n",
       "      <td>39</td>\n",
       "      <td>NaN</td>\n",
       "      <td>NaN</td>\n",
       "      <td>NaN</td>\n",
       "      <td>NaN</td>\n",
       "    </tr>\n",
       "    <tr>\n",
       "      <th>4</th>\n",
       "      <td>NaN</td>\n",
       "      <td>combined city/hwy</td>\n",
       "      <td>city</td>\n",
       "      <td>hwy</td>\n",
       "      <td>NaN</td>\n",
       "      <td>NaN</td>\n",
       "      <td>NaN</td>\n",
       "      <td>NaN</td>\n",
       "    </tr>\n",
       "    <tr>\n",
       "      <th>...</th>\n",
       "      <td>...</td>\n",
       "      <td>...</td>\n",
       "      <td>...</td>\n",
       "      <td>...</td>\n",
       "      <td>...</td>\n",
       "      <td>...</td>\n",
       "      <td>...</td>\n",
       "      <td>...</td>\n",
       "    </tr>\n",
       "    <tr>\n",
       "      <th>487</th>\n",
       "      <td>NaN</td>\n",
       "      <td>19  MPG  18  22  combined city/hwy  city  hwy ...</td>\n",
       "      <td>NaN</td>\n",
       "      <td>NaN</td>\n",
       "      <td>$2,200</td>\n",
       "      <td>$41,300–$42,900</td>\n",
       "      <td>20.1 barrels/yr</td>\n",
       "      <td>524 grams/mile</td>\n",
       "    </tr>\n",
       "    <tr>\n",
       "      <th>488</th>\n",
       "      <td>NaN</td>\n",
       "      <td>19</td>\n",
       "      <td>MPG</td>\n",
       "      <td>MPG</td>\n",
       "      <td>NaN</td>\n",
       "      <td>NaN</td>\n",
       "      <td>NaN</td>\n",
       "      <td>NaN</td>\n",
       "    </tr>\n",
       "    <tr>\n",
       "      <th>489</th>\n",
       "      <td>NaN</td>\n",
       "      <td>19</td>\n",
       "      <td>18</td>\n",
       "      <td>22</td>\n",
       "      <td>NaN</td>\n",
       "      <td>NaN</td>\n",
       "      <td>NaN</td>\n",
       "      <td>NaN</td>\n",
       "    </tr>\n",
       "    <tr>\n",
       "      <th>490</th>\n",
       "      <td>NaN</td>\n",
       "      <td>combined city/hwy</td>\n",
       "      <td>city</td>\n",
       "      <td>hwy</td>\n",
       "      <td>NaN</td>\n",
       "      <td>NaN</td>\n",
       "      <td>NaN</td>\n",
       "      <td>NaN</td>\n",
       "    </tr>\n",
       "    <tr>\n",
       "      <th>491</th>\n",
       "      <td>5.3 gal/100 mi</td>\n",
       "      <td>5.3 gal/100 mi</td>\n",
       "      <td>5.3 gal/100 mi</td>\n",
       "      <td>5.3 gal/100 mi</td>\n",
       "      <td>NaN</td>\n",
       "      <td>NaN</td>\n",
       "      <td>NaN</td>\n",
       "      <td>NaN</td>\n",
       "    </tr>\n",
       "  </tbody>\n",
       "</table>\n",
       "<p>492 rows × 8 columns</p>\n",
       "</div>"
      ],
      "text/plain": [
       "                                               Vehicle  \\\n",
       "0    2019 Chevrolet Equinox FWD 1.6 L, 4 cyl, Autom...   \n",
       "1                                                  NaN   \n",
       "2                                                  NaN   \n",
       "3                                                  NaN   \n",
       "4                                                  NaN   \n",
       "..                                                 ...   \n",
       "487                                                NaN   \n",
       "488                                                NaN   \n",
       "489                                                NaN   \n",
       "490                                                NaN   \n",
       "491                                     5.3 gal/100 mi   \n",
       "\n",
       "                                      EPA Fuel Economy  \\\n",
       "0    2019 Chevrolet Equinox FWD 1.6 L, 4 cyl, Autom...   \n",
       "1    32  MPG  28  39  combined city/hwy  city  hwy ...   \n",
       "2                                                   32   \n",
       "3                                                   32   \n",
       "4                                    combined city/hwy   \n",
       "..                                                 ...   \n",
       "487  19  MPG  18  22  combined city/hwy  city  hwy ...   \n",
       "488                                                 19   \n",
       "489                                                 19   \n",
       "490                                  combined city/hwy   \n",
       "491                                     5.3 gal/100 mi   \n",
       "\n",
       "                                             DriverMPG  \\\n",
       "0    2019 Chevrolet Equinox FWD 1.6 L, 4 cyl, Autom...   \n",
       "1                                                  NaN   \n",
       "2                                                  MPG   \n",
       "3                                                   28   \n",
       "4                                                 city   \n",
       "..                                                 ...   \n",
       "487                                                NaN   \n",
       "488                                                MPG   \n",
       "489                                                 18   \n",
       "490                                               city   \n",
       "491                                     5.3 gal/100 mi   \n",
       "\n",
       "                                            Unnamed: 3  \\\n",
       "0    2019 Chevrolet Equinox FWD 1.6 L, 4 cyl, Autom...   \n",
       "1                                                  NaN   \n",
       "2                                                  MPG   \n",
       "3                                                   39   \n",
       "4                                                  hwy   \n",
       "..                                                 ...   \n",
       "487                                                NaN   \n",
       "488                                                MPG   \n",
       "489                                                 22   \n",
       "490                                                hwy   \n",
       "491                                     5.3 gal/100 mi   \n",
       "\n",
       "                                        AnnualFuelCost  \\\n",
       "0    2019 Chevrolet Equinox FWD 1.6 L, 4 cyl, Autom...   \n",
       "1                                               $1,300   \n",
       "2                                                  NaN   \n",
       "3                                                  NaN   \n",
       "4                                                  NaN   \n",
       "..                                                 ...   \n",
       "487                                             $2,200   \n",
       "488                                                NaN   \n",
       "489                                                NaN   \n",
       "490                                                NaN   \n",
       "491                                                NaN   \n",
       "\n",
       "                                                  MSRP  \\\n",
       "0    2019 Chevrolet Equinox FWD 1.6 L, 4 cyl, Autom...   \n",
       "1                                      $23,800–$33,900   \n",
       "2                                                  NaN   \n",
       "3                                                  NaN   \n",
       "4                                                  NaN   \n",
       "..                                                 ...   \n",
       "487                                    $41,300–$42,900   \n",
       "488                                                NaN   \n",
       "489                                                NaN   \n",
       "490                                                NaN   \n",
       "491                                                NaN   \n",
       "\n",
       "                                     EnergyImpactScore  \\\n",
       "0    2019 Chevrolet Equinox FWD 1.6 L, 4 cyl, Autom...   \n",
       "1                                      11.9 barrels/yr   \n",
       "2                                                  NaN   \n",
       "3                                                  NaN   \n",
       "4                                                  NaN   \n",
       "..                                                 ...   \n",
       "487                                    20.1 barrels/yr   \n",
       "488                                                NaN   \n",
       "489                                                NaN   \n",
       "490                                                NaN   \n",
       "491                                                NaN   \n",
       "\n",
       "                      GreenhouseGasEmissions(tailpipe)  \n",
       "0    2019 Chevrolet Equinox FWD 1.6 L, 4 cyl, Autom...  \n",
       "1                                       321 grams/mile  \n",
       "2                                                  NaN  \n",
       "3                                                  NaN  \n",
       "4                                                  NaN  \n",
       "..                                                 ...  \n",
       "487                                     524 grams/mile  \n",
       "488                                                NaN  \n",
       "489                                                NaN  \n",
       "490                                                NaN  \n",
       "491                                                NaN  \n",
       "\n",
       "[492 rows x 8 columns]"
      ]
     },
     "execution_count": 45,
     "metadata": {},
     "output_type": "execute_result"
    }
   ],
   "source": [
    "diesel[0]"
   ]
  },
  {
   "cell_type": "code",
   "execution_count": 5,
   "metadata": {},
   "outputs": [],
   "source": []
  },
  {
   "cell_type": "code",
   "execution_count": 299,
   "metadata": {},
   "outputs": [
    {
     "ename": "TypeError",
     "evalue": "'NoneType' object is not callable",
     "output_type": "error",
     "traceback": [
      "\u001b[0;31m---------------------------------------------------------------------------\u001b[0m",
      "\u001b[0;31mTypeError\u001b[0m                                 Traceback (most recent call last)",
      "\u001b[0;32m<ipython-input-299-d490fe9c6eeb>\u001b[0m in \u001b[0;36m<module>\u001b[0;34m\u001b[0m\n\u001b[1;32m      2\u001b[0m \u001b[0;34m\u001b[0m\u001b[0m\n\u001b[1;32m      3\u001b[0m \u001b[0msp\u001b[0m \u001b[0;34m=\u001b[0m \u001b[0mbs\u001b[0m\u001b[0;34m.\u001b[0m\u001b[0mBeautifulSoup\u001b[0m\u001b[0;34m(\u001b[0m\u001b[0mf\u001b[0m\u001b[0;34m,\u001b[0m \u001b[0;34m'html.parser'\u001b[0m\u001b[0;34m)\u001b[0m\u001b[0;34m\u001b[0m\u001b[0;34m\u001b[0m\u001b[0m\n\u001b[0;32m----> 4\u001b[0;31m \u001b[0mtb\u001b[0m \u001b[0;34m=\u001b[0m \u001b[0msp\u001b[0m\u001b[0;34m.\u001b[0m\u001b[0mtable\u001b[0m\u001b[0;34m.\u001b[0m\u001b[0mfindall\u001b[0m\u001b[0;34m(\u001b[0m\u001b[0mhref\u001b[0m\u001b[0;34m=\u001b[0m\u001b[0mtestfunc\u001b[0m\u001b[0;34m)\u001b[0m\u001b[0;34m\u001b[0m\u001b[0;34m\u001b[0m\u001b[0m\n\u001b[0m\u001b[1;32m      5\u001b[0m \u001b[0mdf\u001b[0m \u001b[0;34m=\u001b[0m \u001b[0mpd\u001b[0m\u001b[0;34m.\u001b[0m\u001b[0mread_html\u001b[0m\u001b[0;34m(\u001b[0m\u001b[0mstr\u001b[0m\u001b[0;34m(\u001b[0m\u001b[0mtb\u001b[0m\u001b[0;34m)\u001b[0m\u001b[0;34m,\u001b[0m\u001b[0mencoding\u001b[0m\u001b[0;34m=\u001b[0m\u001b[0;34m'utf-8'\u001b[0m\u001b[0;34m,\u001b[0m \u001b[0mheader\u001b[0m\u001b[0;34m=\u001b[0m\u001b[0;36m0\u001b[0m\u001b[0;34m)\u001b[0m\u001b[0;34m[\u001b[0m\u001b[0;36m0\u001b[0m\u001b[0;34m]\u001b[0m\u001b[0;34m\u001b[0m\u001b[0;34m\u001b[0m\u001b[0m\n\u001b[1;32m      6\u001b[0m \u001b[0;31m#df['href'] = [np.where(tag.has_attr('href'),tag.get('href'),\"no link\") for tag in tb.find_all('a')]\u001b[0m\u001b[0;34m\u001b[0m\u001b[0;34m\u001b[0m\u001b[0;34m\u001b[0m\u001b[0m\n",
      "\u001b[0;31mTypeError\u001b[0m: 'NoneType' object is not callable"
     ]
    }
   ],
   "source": [
    "f = requests.get(diesel_url).text\n",
    "\n",
    "sp = bs.BeautifulSoup(f, 'html.parser')\n",
    "tb = sp.table.findall(href=testfunc)\n",
    "df = pd.read_html(str(tb),encoding='utf-8', header=0)[0]\n",
    "#df['href'] = [np.where(tag.has_attr('href'),tag.get('href'),\"no link\") for tag in tb.find_all('a')]"
   ]
  },
  {
   "cell_type": "code",
   "execution_count": 387,
   "metadata": {},
   "outputs": [],
   "source": [
    "slug = 'https://www.fueleconomy.gov/feg/'\n",
    "def testfunc (href):\n",
    "    return href and re.compile(\"action=sbs\").search(href)\n",
    "l = sp.table.find(href=testfunc) #find all the entires in the table that have links to the car page\n",
    "t=l#for t in l:\n",
    "ft = requests.get(slug + t['href']).text\n",
    "car_page = bs.BeautifulSoup(ft, 'html.parser')\n",
    "#car_page.table."
   ]
  },
  {
   "cell_type": "code",
   "execution_count": 469,
   "metadata": {},
   "outputs": [],
   "source": [
    "def testfunc2 (tag):\n",
    "    return tag #and re.compile(\"gallons\").search(tag.string)"
   ]
  },
  {
   "cell_type": "code",
   "execution_count": 441,
   "metadata": {},
   "outputs": [
    {
     "data": {
      "text/plain": [
       "<td class=\"sbsEconData\">14.9 gallons</td>"
      ]
     },
     "execution_count": 441,
     "metadata": {},
     "output_type": "execute_result"
    }
   ],
   "source": [
    "car_page.find_all('td')[28]"
   ]
  },
  {
   "cell_type": "code",
   "execution_count": 382,
   "metadata": {},
   "outputs": [
    {
     "data": {
      "text/plain": [
       "'https://www.fueleconomy.gov/feg/Find.do?action=sbs&id=39312'"
      ]
     },
     "execution_count": 382,
     "metadata": {},
     "output_type": "execute_result"
    }
   ],
   "source": [
    "slug + t['href']"
   ]
  },
  {
   "cell_type": "code",
   "execution_count": 455,
   "metadata": {},
   "outputs": [
    {
     "data": {
      "text/plain": [
       "True"
      ]
     },
     "execution_count": 455,
     "metadata": {},
     "output_type": "execute_result"
    }
   ],
   "source": [
    "car_page.find_all('td')[0].name == 'td'"
   ]
  },
  {
   "cell_type": "code",
   "execution_count": 471,
   "metadata": {},
   "outputs": [
    {
     "data": {
      "text/plain": [
       "[]"
      ]
     },
     "execution_count": 471,
     "metadata": {},
     "output_type": "execute_result"
    }
   ],
   "source": [
    "car_page.find_all(tag=testfunc2)"
   ]
  },
  {
   "cell_type": "code",
   "execution_count": 389,
   "metadata": {},
   "outputs": [],
   "source": [
    "if (car_page.find_all('td')[30] and re.compile(\"gallons\").search(car_page.find_all('td')[30].string)):\n",
    "    print('yes')"
   ]
  },
  {
   "cell_type": "code",
   "execution_count": 413,
   "metadata": {},
   "outputs": [],
   "source": [
    "x = car_page.find_all('td')[28]"
   ]
  },
  {
   "cell_type": "code",
   "execution_count": 422,
   "metadata": {},
   "outputs": [
    {
     "data": {
      "text/plain": [
       "<re.Match object; span=(5, 12), match='gallons'>"
      ]
     },
     "execution_count": 422,
     "metadata": {},
     "output_type": "execute_result"
    }
   ],
   "source": [
    "re.compile('gallons').search(x.string)"
   ]
  },
  {
   "cell_type": "code",
   "execution_count": 424,
   "metadata": {},
   "outputs": [
    {
     "data": {
      "text/plain": [
       "<re.Match object; span=(5, 12), match='gallons'>"
      ]
     },
     "execution_count": 424,
     "metadata": {},
     "output_type": "execute_result"
    }
   ],
   "source": [
    "testfunc2(x)"
   ]
  },
  {
   "cell_type": "code",
   "execution_count": null,
   "metadata": {},
   "outputs": [],
   "source": []
  }
 ],
 "metadata": {
  "kernelspec": {
   "display_name": "Python 3",
   "language": "python",
   "name": "python3"
  },
  "language_info": {
   "codemirror_mode": {
    "name": "ipython",
    "version": 3
   },
   "file_extension": ".py",
   "mimetype": "text/x-python",
   "name": "python",
   "nbconvert_exporter": "python",
   "pygments_lexer": "ipython3",
   "version": "3.8.5"
  }
 },
 "nbformat": 4,
 "nbformat_minor": 4
}
