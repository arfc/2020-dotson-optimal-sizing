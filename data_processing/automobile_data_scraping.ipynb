{
 "cells": [
  {
   "cell_type": "markdown",
   "metadata": {},
   "source": [
    "# Vehicle Data Scraping"
   ]
  },
  {
   "cell_type": "markdown",
   "metadata": {},
   "source": [
    "Source: https://pythoninoffice.com/get-table-data-from-web-page-using-python-pandas/\n",
    "        https://pandas.pydata.org/pandas-docs/stable/reference/api/pandas.DataFrame.notna.html#pandas.DataFrame.notna  \n",
    "        https://www.fueleconomy.gov/feg/PowerSearch"
   ]
  },
  {
   "cell_type": "code",
   "execution_count": 1,
   "metadata": {},
   "outputs": [],
   "source": [
    "import pandas as pd\n",
    "import numpy as np\n",
    "import re"
   ]
  },
  {
   "cell_type": "markdown",
   "metadata": {},
   "source": [
    "fueleconomy.gov has tabulated data for all kinds of automobiles. Let's use the `read_html` function in `pandas` to scrape the website for this data. Notice these URLs are quite long. This is because I have several filters from the powersearch feature on the website activated to exclude luxury vehicle brands and focus on vehicle types that are in the UIUC fleet."
   ]
  },
  {
   "cell_type": "code",
   "execution_count": 2,
   "metadata": {},
   "outputs": [],
   "source": [
    "diesel = pd.read_html('https://www.fueleconomy.gov/feg/PowerSearch.do?action=PowerSearch&year1=2018&year2=2021&cbmkAcura=Acura&cbmkBYD=BYD&cbmkChevrolet=Chevrolet&cbmkChrysler=Chrysler&cbmkDodge=Dodge&cbmkFiat=Fiat&cbmkFord=Ford&cbmkGMC=GMC&cbmkHonda=Honda&cbmkHyundai=Hyundai&cbmkJeep=Jeep&cbmkKia=Kia&cbmkMazda=Mazda&cbmkMitsubishi=Mitsubishi&cbmkNissan=Nissan&cbmkRam=Ram&cbmkSubaru=Subaru&cbmkToyota=Toyota&cbmkVolkswagen=Volkswagen&cbmkVolvo=Volvo&cbmcfamilySedans=Family+Sedans&cbmclargeSedans=Large+Sedans&cbmcpickupTrucks=Pickup+Trucks&cbmcsportUtilityVehicles=Sport+Utility+Vehicles&cbmcminivans=Minivans&cbmcvans=Vans&minmsrpsel=0&maxmsrpsel=0&city=0&highway=0&combined=0&cbftdiesel=Diesel&YearSel=2018-2021&MakeSel=Acura%3B+BYD%3B+Chevrolet%3B+Chrysler%3B+Dodge%3B+Fiat%3B+Ford%3B+GMC%3B+Honda%3B+Hyundai%3B+Jeep%3B+Kia%3B+Mazda%3B+Mitsubishi%3B+Nissan%3B+Ram%3B+Subaru%3B+Toyota%3B+Volkswagen%3B+Volvo&MarClassSel=Family+Sedans%2C+Large+Sedans%2C+Pickup+Trucks%2C+Sport+Utility+Vehicles%2C+Minivans%2C+Vans&FuelTypeSel=Diesel&VehTypeSel=&TranySel=&DriveTypeSel=&CylindersSel=&MpgSel=000&sortBy=Comb&Units=&url=SearchServlet&opt=new&minmsrp=0&maxmsrp=0&minmpg=0&maxmpg=0&sCharge=&tCharge=&startstop=&cylDeact=&rowLimit=200')[0]\n",
    "electric = pd.read_html('https://www.fueleconomy.gov/feg/PowerSearch.do?action=PowerSearch&year1=2018&year2=2021&cbmkAcura=Acura&cbmkBYD=BYD&cbmkChevrolet=Chevrolet&cbmkChrysler=Chrysler&cbmkDodge=Dodge&cbmkFiat=Fiat&cbmkFord=Ford&cbmkGMC=GMC&cbmkHonda=Honda&cbmkHyundai=Hyundai&cbmkJeep=Jeep&cbmkKia=Kia&cbmkMazda=Mazda&cbmkMitsubishi=Mitsubishi&cbmkNissan=Nissan&cbmkRam=Ram&cbmkSubaru=Subaru&cbmkToyota=Toyota&cbmkVolkswagen=Volkswagen&cbmkVolvo=Volvo&cbmcfamilySedans=Family+Sedans&cbmclargeSedans=Large+Sedans&cbmcpickupTrucks=Pickup+Trucks&cbmcsportUtilityVehicles=Sport+Utility+Vehicles&cbmcminivans=Minivans&cbmcvans=Vans&minmsrpsel=0&maxmsrpsel=0&city=0&highway=0&combined=0&cbvtelectric=Electric&YearSel=2018-2021&MakeSel=Acura%3B+BYD%3B+Chevrolet%3B+Chrysler%3B+Dodge%3B+Fiat%3B+Ford%3B+GMC%3B+Honda%3B+Hyundai%3B+Jeep%3B+Kia%3B+Mazda%3B+Mitsubishi%3B+Nissan%3B+Ram%3B+Subaru%3B+Toyota%3B+Volkswagen%3B+Volvo&MarClassSel=Family+Sedans%2C+Large+Sedans%2C+Pickup+Trucks%2C+Sport+Utility+Vehicles%2C+Minivans%2C+Vans&FuelTypeSel=&VehTypeSel=Electric&TranySel=&DriveTypeSel=&CylindersSel=&MpgSel=000&sortBy=Comb&Units=&url=SearchServlet&opt=new&minmsrp=0&maxmsrp=0&minmpg=0&maxmpg=0&sCharge=&tCharge=&startstop=&cylDeact=&rowLimit=200')[0]\n",
    "e85 = pd.read_html('https://www.fueleconomy.gov/feg/PowerSearch.do?action=PowerSearch&year1=2018&year2=2021&cbmkAcura=Acura&cbmkBYD=BYD&cbmkChevrolet=Chevrolet&cbmkChrysler=Chrysler&cbmkDodge=Dodge&cbmkFiat=Fiat&cbmkFord=Ford&cbmkGMC=GMC&cbmkHonda=Honda&cbmkHyundai=Hyundai&cbmkJeep=Jeep&cbmkKia=Kia&cbmkMazda=Mazda&cbmkMitsubishi=Mitsubishi&cbmkNissan=Nissan&cbmkRam=Ram&cbmkSubaru=Subaru&cbmkToyota=Toyota&cbmkVolkswagen=Volkswagen&cbmkVolvo=Volvo&cbmcfamilySedans=Family+Sedans&cbmclargeSedans=Large+Sedans&cbmcpickupTrucks=Pickup+Trucks&cbmcsportUtilityVehicles=Sport+Utility+Vehicles&cbmcminivans=Minivans&cbmcvans=Vans&minmsrpsel=0&maxmsrpsel=0&city=0&highway=0&combined=0&cbfte85=E85&YearSel=2018-2021&MakeSel=Acura%3B+BYD%3B+Chevrolet%3B+Chrysler%3B+Dodge%3B+Fiat%3B+Ford%3B+GMC%3B+Honda%3B+Hyundai%3B+Jeep%3B+Kia%3B+Mazda%3B+Mitsubishi%3B+Nissan%3B+Ram%3B+Subaru%3B+Toyota%3B+Volkswagen%3B+Volvo&MarClassSel=Family+Sedans%2C+Large+Sedans%2C+Pickup+Trucks%2C+Sport+Utility+Vehicles%2C+Minivans%2C+Vans&FuelTypeSel=E85&VehTypeSel=&TranySel=&DriveTypeSel=&CylindersSel=&MpgSel=000&sortBy=Comb&Units=&url=SearchServlet&opt=new&minmsrp=0&maxmsrp=0&minmpg=0&maxmpg=0&sCharge=&tCharge=&startstop=&cylDeact=&rowLimit=200')[0]\n",
    "gasoline = pd.read_html('https://www.fueleconomy.gov/feg/PowerSearch.do?action=PowerSearch&year1=2018&year2=2021&cbmkAcura=Acura&cbmkBYD=BYD&cbmkChevrolet=Chevrolet&cbmkChrysler=Chrysler&cbmkDodge=Dodge&cbmkFiat=Fiat&cbmkFord=Ford&cbmkGMC=GMC&cbmkHonda=Honda&cbmkHyundai=Hyundai&cbmkJeep=Jeep&cbmkKia=Kia&cbmkMazda=Mazda&cbmkMitsubishi=Mitsubishi&cbmkNissan=Nissan&cbmkRam=Ram&cbmkSubaru=Subaru&cbmkToyota=Toyota&cbmkVolkswagen=Volkswagen&cbmkVolvo=Volvo&cbmcfamilySedans=Family+Sedans&cbmclargeSedans=Large+Sedans&cbmcpickupTrucks=Pickup+Trucks&cbmcsportUtilityVehicles=Sport+Utility+Vehicles&cbmcminivans=Minivans&cbmcvans=Vans&minmsrpsel=0&maxmsrpsel=0&city=0&highway=0&combined=0&cbvtgasoline=Gasoline&YearSel=2018-2021&MakeSel=Acura%3B+BYD%3B+Chevrolet%3B+Chrysler%3B+Dodge%3B+Fiat%3B+Ford%3B+GMC%3B+Honda%3B+Hyundai%3B+Jeep%3B+Kia%3B+Mazda%3B+Mitsubishi%3B+Nissan%3B+Ram%3B+Subaru%3B+Toyota%3B+Volkswagen%3B+Volvo&MarClassSel=Family+Sedans%2C+Large+Sedans%2C+Pickup+Trucks%2C+Sport+Utility+Vehicles%2C+Minivans%2C+Vans&FuelTypeSel=&VehTypeSel=Gasoline&TranySel=&DriveTypeSel=&CylindersSel=&MpgSel=000&sortBy=Comb&Units=&url=SearchServlet&opt=new&minmsrp=0&maxmsrp=0&minmpg=0&maxmpg=0&sCharge=&tCharge=&startstop=&cylDeact=&rowLimit=1453')[0]"
   ]
  },
  {
   "cell_type": "markdown",
   "metadata": {},
   "source": [
    "The web-scraped data has all kinds of formatting issues in pandas, so we will need to clean it up a bit. I wrote the following functions to do exactly this."
   ]
  },
  {
   "cell_type": "code",
   "execution_count": 3,
   "metadata": {},
   "outputs": [],
   "source": [
    "def convert_to_string (arr):\n",
    "    \"\"\"\n",
    "    This function converts object arrays to string arrays\n",
    "    \n",
    "    Parameters:\n",
    "    -----------\n",
    "    arr : array of objects\n",
    "    \n",
    "    Returns:\n",
    "    --------\n",
    "    str_arr : float\n",
    "            Array of strings\n",
    "            \n",
    "    \"\"\"\n",
    "    str_arr = np.array([])\n",
    "    for a in arr:\n",
    "        str_arr = np.append(str_arr, str(a))\n",
    "    return str_arr\n",
    "\n",
    "\n",
    "def split_dash (s):\n",
    "    \"\"\"\n",
    "    This function splits a string along any dashes it might have.\n",
    "    \n",
    "    Parameters:\n",
    "    -----------\n",
    "    s : string\n",
    "    \n",
    "    Returns:\n",
    "    --------\n",
    "    s_arr : strings\n",
    "            Array of strings\n",
    "    \"\"\"\n",
    "    return re.split('[–]', s)\n"
   ]
  },
  {
   "cell_type": "code",
   "execution_count": 4,
   "metadata": {},
   "outputs": [],
   "source": [
    "def get_avg_msrp (df):\n",
    "    \"\"\"\n",
    "    This function takes the data table fron fueleconomy.gov\n",
    "    and returns the average of the MSRP values listed there.\n",
    "    \n",
    "    Parameters:\n",
    "    -----------\n",
    "    df : pandas dataframe\n",
    "        THe return value of pd.read_html()\n",
    "    \n",
    "    Returns:\n",
    "    --------\n",
    "    avg : float\n",
    "        Average of the MSRP data\n",
    "        \n",
    "    \"\"\"\n",
    "    \n",
    "    # Get rid of NaN MSRP values\n",
    "    df = df[df['MSRP'].notna()]\n",
    "    \n",
    "    # Pick out MSRP entries that have a dollar sign\n",
    "    df = df[df['MSRP'].str.contains('\\$')]\n",
    "    \n",
    "    # Convert these to string form\n",
    "    msrp_string = convert_to_string(df['MSRP'].values)\n",
    "    \n",
    "    # Many of the MSRPs are a given as a range between a lower and upper limit\n",
    "    # of values. We want to take the average of this range.\n",
    "    msrp_string = map(split_dash, msrp_string)\n",
    "    msrp_num = np.array([])\n",
    "    for s in msrp_string:\n",
    "        if (len(s) == 2):\n",
    "            s[0] = float(s[0][1:].replace(',',''))\n",
    "            s[1] = float(s[1][1:].replace(',',''))\n",
    "            s = (s[0] + s[1]) / 2\n",
    "        else:\n",
    "            s = float(s[0][1:].replace (',',''))\n",
    "            \n",
    "        msrp_num = np.append(msrp_num, s)\n",
    "            \n",
    "    return np.average(msrp_num)\n",
    "    "
   ]
  },
  {
   "cell_type": "markdown",
   "metadata": {},
   "source": [
    "With our functions defined and ready to go, we just need to call them with the relevant vehicle data:"
   ]
  },
  {
   "cell_type": "code",
   "execution_count": 9,
   "metadata": {},
   "outputs": [
    {
     "data": {
      "text/plain": [
       "2514.2083333333335"
      ]
     },
     "execution_count": 9,
     "metadata": {},
     "output_type": "execute_result"
    }
   ],
   "source": [
    "get_avg_msrp(diesel)/15"
   ]
  },
  {
   "cell_type": "code",
   "execution_count": 10,
   "metadata": {},
   "outputs": [
    {
     "data": {
      "text/plain": [
       "2740.6666666666665"
      ]
     },
     "execution_count": 10,
     "metadata": {},
     "output_type": "execute_result"
    }
   ],
   "source": [
    "get_avg_msrp(electric)/15"
   ]
  },
  {
   "cell_type": "code",
   "execution_count": 12,
   "metadata": {},
   "outputs": [
    {
     "data": {
      "text/plain": [
       "2924.2732558139537"
      ]
     },
     "execution_count": 12,
     "metadata": {},
     "output_type": "execute_result"
    }
   ],
   "source": [
    "get_avg_msrp(e85)/15"
   ]
  },
  {
   "cell_type": "code",
   "execution_count": 13,
   "metadata": {},
   "outputs": [
    {
     "data": {
      "text/plain": [
       "1623.9814814814815"
      ]
     },
     "execution_count": 13,
     "metadata": {},
     "output_type": "execute_result"
    }
   ],
   "source": [
    "get_avg_msrp(gasoline)/15"
   ]
  },
  {
   "cell_type": "code",
   "execution_count": null,
   "metadata": {},
   "outputs": [],
   "source": []
  }
 ],
 "metadata": {
  "kernelspec": {
   "display_name": "Python 3",
   "language": "python",
   "name": "python3"
  },
  "language_info": {
   "codemirror_mode": {
    "name": "ipython",
    "version": 3
   },
   "file_extension": ".py",
   "mimetype": "text/x-python",
   "name": "python",
   "nbconvert_exporter": "python",
   "pygments_lexer": "ipython3",
   "version": "3.8.5"
  }
 },
 "nbformat": 4,
 "nbformat_minor": 4
}
