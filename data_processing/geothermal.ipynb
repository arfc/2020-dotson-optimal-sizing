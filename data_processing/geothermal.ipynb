{
 "cells": [
  {
   "cell_type": "markdown",
   "metadata": {},
   "source": [
    "# UIUC\n",
    "\n",
    "There are two types of geothermal systems on campus:\n",
    "* shallow, horizontal ground loop systems\n",
    "* closed-loop 40 450-foot deep vertical boreholes\n",
    "\n",
    "The Campus Instructional Facility hosts the vertical boreholes, which produce 2,839 MMBTU/year [1] ~ 832 MW(th)h/year = 0.095 MW(th).\n",
    "\n",
    "According to the ICAP, UIUC should have a geothermal plant as the one in Ball State Universty (BSU), which has one of the largest geothermal plants for district heating in the US.\n",
    "For that reason, several of the numbers presented here are based on BSU's geothermal plant.\n",
    "\n",
    "\n",
    "# BSU\n",
    "\n",
    "BSU's geothermal heat pumps can produce chilled and hot water.\n",
    "The COP varies according to the source:\n",
    "* 3.8 for heating and 2.9 for cooling [2]\n",
    "* 3.4 for heating and 5.93 for cooling [3]\n",
    "* 3.74 for heating and 4.28 for cooling [4]\n",
    "\n",
    "The well-field has [3]:\n",
    "* 1800 400-foot deep vertical boreholes\n",
    "* 1583 500-foot deep vertical boreholes\n",
    "\n",
    "Size [3]:\n",
    "* Heating: 152 MMBTU/h ~ 44.55 MW (at 150 F)\n",
    "* Cooling: 10,000 tons ~ 7 MW ~ 23 MMBTU/h (at 42)\n",
    "\n",
    "Total output [4]:\n",
    "* Heating: 149,738 MMBTU/year\n",
    "* Cooling: 140,032 MMBTU/year\n",
    "\n",
    "Construction cost [3]:\n",
    "* Boreholes only = 27 M\\$\n",
    "* Total = 82.9 M$\n",
    "\n",
    "Land use [3]:\n",
    "* Well-field: boreholes are placed 15 ft apart, which gives each borehole a surface area of 225 sq-ft. The borehole fields are located under parking lots and recreational fileds.\n",
    "\n",
    "* Plants: 12,000 sq-ft (North station) and 16,480 sq-ft (South station).\n",
    "\n",
    "* According to [6] the land use of geothermal in 30 years is 404 m2 (it includes exploration).\n",
    "\n",
    "Fixed Cost: Operation and Maintenance [5]\n",
    "* C O&M = C labor + 1.5% C plant + 1% * C well\n",
    "* C labor [k$/year] = 236 if P < 12.5 MWth or 589 * ln (W/5) - 304 if P >= 12.5 MWth\n",
    "\n",
    "\n",
    "## References\n",
    "\n",
    "1. ICAP 2020 [link](https://icap.sustainability.illinois.edu/files/project/5293/iCAP-2020-FINAL-WEB.pdf)\n",
    "2. ICAP 2015 [link](https://icap.sustainability.illinois.edu/files/project/2634/2015iCAPweb.pdf)\n",
    "3. Mike Luster. Campus Conversion to Geothermal. PowerPoint presentation. 2016. [link](https://www.districtenergy.org/HigherLogic/System/DownloadDocumentFile.ashx?DocumentFileKey=b0f3ed01-7c78-e7bd-df18-f5a9213efec9&forceDialog=0)\n",
    "4. Im, Liu, and Henderson. Case Study for the ARRA-Funded Ground-Source Heat Pump Demonstration at Ball State University. 2016. [link](https://info.ornl.gov/sites/publications/files/Pub71170.pdf)\n",
    "5. Beckers. Low-Temperature Geothermal Energy: Systems Modeling, Reservoir Simulation, And Economic Analysis. PhD Dissertation. Cornell University. 2016. [link](https://ecommons.cornell.edu/handle/1813/44328)\n",
    "6. Leslie Blodgett. Geothermal 101: Basics of Geothermal Energy. Technical Report. Geothermal Energy Association. 2014. [link](https://archive.geothermal.org/Policy_Committee/Documents/Geothermal_101-Basics_of_Geothermal_Energy.pdf)\n",
    "\n",
    "\n",
    "# TEMOA's model\n",
    "\n",
    "* Technology from ELC to USTM\n",
    "* Efficiency: COP = 3.74\n",
    "* ExistingCapacity: 0.095 MW(th)\n",
    "* CapacityToActivity = 8.76 thermal GWh\n",
    "* CostInvest: ??\n",
    "* CostFixed: ??\n",
    "* LandUse: ??"
   ]
  },
  {
   "cell_type": "markdown",
   "metadata": {},
   "source": [
    "# CostInvest\n",
    "\n",
    "Total cost/Capacity = 82.9 M$\\$$/44.55 MW(th)"
   ]
  },
  {
   "cell_type": "code",
   "execution_count": 2,
   "metadata": {},
   "outputs": [
    {
     "data": {
      "text/plain": [
       "1.8608305274971944"
      ]
     },
     "execution_count": 2,
     "metadata": {},
     "output_type": "execute_result"
    }
   ],
   "source": [
    "82.9/44.55"
   ]
  },
  {
   "cell_type": "markdown",
   "metadata": {},
   "source": [
    "# CostFixed\n",
    "\n",
    "C O&M = C labor + 1.5% C plant + 1% C well\n",
    "\n",
    "C labor [k$/year] = 236 if P < 12.5 MWth or 589 * ln (W/5) - 304 if P >= 12.5 MWth\n",
    "\n",
    "CostFixed = C O&M/Capacity [M$/MWth]\n"
   ]
  },
  {
   "cell_type": "code",
   "execution_count": 4,
   "metadata": {},
   "outputs": [
    {
     "data": {
      "text/plain": [
       "0.046975210510287795"
      ]
     },
     "execution_count": 4,
     "metadata": {},
     "output_type": "execute_result"
    }
   ],
   "source": [
    "import numpy as np\n",
    "Cwell = 27\n",
    "Cplant = 82.9 - Cwell\n",
    "capacity = 44.55\n",
    "Clabor = (589 * np.log(capacity/5) - 304)/1e3\n",
    "COM = Clabor + 1.5/100*Cplant+1/100*Cwell\n",
    "COM/capacity"
   ]
  },
  {
   "cell_type": "markdown",
   "metadata": {},
   "source": [
    "# LandUse\n",
    "\n",
    "Total land use [sq-ft]/Capacity[MWth]\n",
    "\n",
    "Total land use considers the plant's surface area and the well-field area as well."
   ]
  },
  {
   "cell_type": "code",
   "execution_count": 2,
   "metadata": {},
   "outputs": [
    {
     "data": {
      "text/plain": [
       "17725.140291806958"
      ]
     },
     "execution_count": 2,
     "metadata": {},
     "output_type": "execute_result"
    }
   ],
   "source": [
    "use = 12000 + 16480 + 3383 * 225\n",
    "capacity = 44.55\n",
    "use / capacity"
   ]
  },
  {
   "cell_type": "markdown",
   "metadata": {},
   "source": [
    "* CostInvest: 1.8608 M$\\$$/MW(th)\n",
    "* CostFixed: 0.0249 M$\\$$/MW(th)/year\n",
    "* LandUse: 639.28 sq-ft/MW(th)"
   ]
  }
 ],
 "metadata": {
  "kernelspec": {
   "display_name": "Python 3",
   "language": "python",
   "name": "python3"
  },
  "language_info": {
   "codemirror_mode": {
    "name": "ipython",
    "version": 3
   },
   "file_extension": ".py",
   "mimetype": "text/x-python",
   "name": "python",
   "nbconvert_exporter": "python",
   "pygments_lexer": "ipython3",
   "version": "3.8.3"
  }
 },
 "nbformat": 4,
 "nbformat_minor": 4
}
