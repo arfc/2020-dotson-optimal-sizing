{
 "cells": [
  {
   "cell_type": "markdown",
   "metadata": {},
   "source": [
    "# UIUC\n",
    "\n",
    "There are two types of geothermal systems on campus:\n",
    "* shallow, horizontal ground loop systems\n",
    "* closed-loop 40 450-foot deep vertical boreholes\n",
    "\n",
    "The Campus Instructional Facility hosts the vertical boreholes, which produce 2,839 MMBTU/year [1] ~ 832 MW(th)h/year = 0.095 MW(th).\n",
    "\n",
    "According to the ICAP, UIUC should have a geothermal plant as the one in Ball State Universty (BSU), which has one of the largest geothermal plants for district heating in the US.\n",
    "For that reason, several of the numbers presented here are based on BSU's geothermal plant.\n",
    "\n",
    "\n",
    "# BSU\n",
    "\n",
    "BSU's geothermal heat pumps can produce chilled and hot water.\n",
    "The COP varies according to the source:\n",
    "* 3.8 for heating and 2.9 for cooling [2]\n",
    "* 3.4 for heating and 5.93 for cooling [3]\n",
    "* 3.74 +/- 0.2 for heating and 4.28 +/- 0.2 for cooling [4] (this one seems to be the most reliable one)\n",
    "\n",
    "The well-field has [3]:\n",
    "* 1800 400-foot deep vertical boreholes\n",
    "* 1583 500-foot deep vertical boreholes\n",
    "\n",
    "Size [3]:\n",
    "* Heating: 152 MMBTU/h ~ 44.55 MW(th) (at 150 F)\n",
    "* Cooling: 10,000 tons ~ 35 MW(th) (at 42) ~ 5.9 MW(e)\n",
    "\n",
    "Total output [4]:\n",
    "* Heating: 149,738 MMBTU/year ~ 43,884 MW(th)h/y\n",
    "* Cooling: 140,032 MMBTU/year ~ 41,039 MW(th)h/y\n",
    "\n",
    "System would have consumed [4]:\n",
    "* Heating (natural gas plant): 212,806 MMBTU/y\n",
    "* Cooling (electricity): 10,970 MW(e)h/y\n",
    "\n",
    "Construction cost [3]:\n",
    "* Boreholes only = 27 M\\$\n",
    "* Total = 82.9 M$\n",
    "\n",
    "Land use [3]:\n",
    "* Well-field: boreholes are placed 15 ft apart, which gives each borehole a surface area of 225 sq-ft. The borehole fields are located under parking lots and recreational fileds.\n",
    "\n",
    "* Plants: 12,000 sq-ft (North station) and 16,480 sq-ft (South station).\n",
    "\n",
    "* According to [6] the land use of geothermal in 30 years is 404 m2 (it includes exploration).\n",
    "\n",
    "Fixed Cost: Operation and Maintenance [5]\n",
    "* C O&M = C labor + 1.5% C plant + 1% * C well\n",
    "* C labor [k$/year] = 236 if P < 12.5 MWth or 589 * ln (W/5) - 304 if P >= 12.5 MWth\n",
    "\n",
    "\n",
    "## References\n",
    "\n",
    "1. ICAP 2020 [link](https://icap.sustainability.illinois.edu/files/project/5293/iCAP-2020-FINAL-WEB.pdf)\n",
    "2. ICAP 2015 [link](https://icap.sustainability.illinois.edu/files/project/2634/2015iCAPweb.pdf)\n",
    "3. Mike Luster. Campus Conversion to Geothermal. PowerPoint presentation. 2016. [link](https://www.districtenergy.org/HigherLogic/System/DownloadDocumentFile.ashx?DocumentFileKey=b0f3ed01-7c78-e7bd-df18-f5a9213efec9&forceDialog=0)\n",
    "4. Im, Liu, and Henderson. Case Study for the ARRA-Funded Ground-Source Heat Pump Demonstration at Ball State University. 2016. [link](https://info.ornl.gov/sites/publications/files/Pub71170.pdf)\n",
    "5. Beckers. Low-Temperature Geothermal Energy: Systems Modeling, Reservoir Simulation, And Economic Analysis. PhD Dissertation. Cornell University. 2016. [link](https://ecommons.cornell.edu/handle/1813/44328)\n",
    "6. Leslie Blodgett. Geothermal 101: Basics of Geothermal Energy. Technical Report. Geothermal Energy Association. 2014. [link](https://archive.geothermal.org/Policy_Committee/Documents/Geothermal_101-Basics_of_Geothermal_Energy.pdf)\n",
    "\n",
    "\n",
    "# TEMOA's model\n",
    "\n",
    "* CapacityToActivity = 8.76 thermal GWh\n",
    "* Efficiency: ??\n",
    "* TechOutputSplit: ??\n",
    "* CostInvest: ??\n",
    "* CostFixed: ??\n",
    "* ExistingCapacity: ??\n",
    "* LandUse: ??"
   ]
  },
  {
   "cell_type": "markdown",
   "metadata": {},
   "source": [
    "## Efficiency\n",
    "\n",
    "tot_elec ---> heat_elec (MWe) --> x COP_heat --> heat_prod (MWth) <br />\n",
    "         | <br />\n",
    "         --> cool_elec (MWe) --> x COP_cool --> cool_prod (MWth) --> unit_conversion --> cool_prod (tons)\n",
    "\n",
    "\n",
    "1 MWe --> 0.55 MWe --> x 3.74 --> MWth <br />\n",
    "| <br />\n",
    "--> 0.45 Mwe --> x4.28 --> MWth --> x280 --> tons\n",
    "\n",
    "\n",
    "* Our model:\n",
    "\n",
    "ELC (MWe) --> GEOT -- 0.55 --> GSTM (MWe) --> GH -> USTM (MWth) <br />\n",
    "                | <br />\n",
    "                -- 0.45 --> GCHW (MWe)--> GC --> UCWS (tons)\n",
    "\n",
    "GH: COP=3.74, converts MWe into MWth <br />\n",
    "GC: COP x unit conversion = 4.28 x 285.714, converts MWe into tons"
   ]
  },
  {
   "cell_type": "code",
   "execution_count": 7,
   "metadata": {},
   "outputs": [],
   "source": [
    "# ELC to USTM\n",
    "COP_heat = 3.74\n",
    "\n",
    "# ELC to DCW\n",
    "COP_cool = 4.28\n",
    "\n",
    "# DCW to UCWS\n",
    "unit_conversion = 1000/3.5"
   ]
  },
  {
   "cell_type": "markdown",
   "metadata": {},
   "source": [
    "## TechOutputSplit"
   ]
  },
  {
   "cell_type": "code",
   "execution_count": 5,
   "metadata": {},
   "outputs": [
    {
     "name": "stdout",
     "output_type": "stream",
     "text": [
      "Portion that goes into USTM: 0.5503028366814883\n",
      "Portion that goes into UCWS: 0.4496971633185118\n"
     ]
    }
   ],
   "source": [
    "heat_prod = 43884\n",
    "cool_prod = 41039\n",
    "heat_cop = 3.74\n",
    "cool_cop = 4.28\n",
    "\n",
    "cool_elec_demand = 10970\n",
    "\n",
    "heat_elec = heat_prod/heat_cop\n",
    "cool_elec = cool_prod/cool_cop\n",
    "\n",
    "tot_elec = heat_elec + cool_elec\n",
    "print(f'Portion that goes into USTM: {heat_elec/tot_elec}')\n",
    "print(f'Portion that goes into UCWS: {cool_elec/tot_elec}')"
   ]
  },
  {
   "cell_type": "markdown",
   "metadata": {},
   "source": [
    "## CostInvest\n",
    "\n",
    "Total cost/Capacity = 82.9 M$\\$$/capacity MW(th)\n",
    "\n",
    "For the capacity we will define a 'virtual cost' for each section of the plant:\n",
    "\n",
    "GH cost = Total cost * 0.55<br />\n",
    "GC cost = Total cost * 0.45"
   ]
  },
  {
   "cell_type": "code",
   "execution_count": 2,
   "metadata": {},
   "outputs": [
    {
     "name": "stdout",
     "output_type": "stream",
     "text": [
      "GH cost invest: 1.023456790123457 M$/MW(th)\n",
      "GC cost invest: 0.0037305000000000007 M$/tons\n"
     ]
    }
   ],
   "source": [
    "print(f'GH cost invest: {82.9 * 0.55/44.55} M$/MW(th)')\n",
    "print(f'GC cost invest: {82.9 * 0.45/10e3} M$/tons')"
   ]
  },
  {
   "cell_type": "markdown",
   "metadata": {},
   "source": [
    "## CostFixed\n",
    "\n",
    "C O&M = C labor + 1.5% C plant + 1% C well\n",
    "\n",
    "C labor [k$/year] = 236 if P < 12.5 MWth or 589 * ln (W/5) - 304 if P >= 12.5 MWth\n",
    "\n",
    "CostFixed = C O&M/Capacity [M$/MWth]\n",
    "\n",
    "GH cost O&M = C O&M * 0.55<br />\n",
    "GC cost O&M = C O&M * 0.45"
   ]
  },
  {
   "cell_type": "code",
   "execution_count": 4,
   "metadata": {},
   "outputs": [
    {
     "name": "stdout",
     "output_type": "stream",
     "text": [
      "GH cost fixed: 0.025098733883547934 M$/MW(th)\n",
      "GC cost fixed: 9.148488500553222e-05 M$/tons\n"
     ]
    }
   ],
   "source": [
    "import numpy as np\n",
    "Cwell = 27\n",
    "Cplant = 82.9 - Cwell\n",
    "virtual_capacity = 44.55 * 0.55 + 0.45 * 35\n",
    "Clabor = (589 * np.log(virtual_capacity/5) - 304)/1e3\n",
    "COM = Clabor + 1.5/100*Cplant+1/100*Cwell\n",
    "\n",
    "print(f'GH cost fixed: {COM * 0.55/44.55} M$/MW(th)')\n",
    "print(f'GC cost fixed: {COM * 0.45/10e3} M$/tons')"
   ]
  },
  {
   "cell_type": "markdown",
   "metadata": {},
   "source": [
    "## Existing Capacity\n",
    "\n",
    "Total = 0.095 MW(th)"
   ]
  },
  {
   "cell_type": "code",
   "execution_count": 2,
   "metadata": {},
   "outputs": [
    {
     "name": "stdout",
     "output_type": "stream",
     "text": [
      "GH existing cap: 0.052250000000000005 MW(th)\n",
      "GC existing cap: 12.213675 tons\n"
     ]
    }
   ],
   "source": [
    "tot = 0.095\n",
    "print(f'GH existing cap: {tot * 0.55} MW(th)')\n",
    "print(f'GC existing cap: {tot * 0.45 * 285.7} tons')"
   ]
  },
  {
   "cell_type": "markdown",
   "metadata": {},
   "source": [
    "## LandUse\n",
    "\n",
    "Total land use [sq-ft]/Capacity[MWth]\n",
    "\n",
    "Total land use considers the plant's surface area and the well-field area as well."
   ]
  },
  {
   "cell_type": "code",
   "execution_count": 5,
   "metadata": {},
   "outputs": [
    {
     "name": "stdout",
     "output_type": "stream",
     "text": [
      "Specific land use = 905.6952896913582 m^2\n",
      "Specific land use = 3.3012593309250002 m^2\n"
     ]
    }
   ],
   "source": [
    "use = 12000 + 16480 + 3383 * 225\n",
    "sqft_to_m2 = 0.092903\n",
    "\n",
    "print(f'Specific land use = {use * 0.55 / 44.55 * sqft_to_m2} m^2')\n",
    "print(f'Specific land use = {use * 0.45 / 10e3 * sqft_to_m2} m^2')"
   ]
  },
  {
   "cell_type": "code",
   "execution_count": null,
   "metadata": {},
   "outputs": [],
   "source": []
  }
 ],
 "metadata": {
  "kernelspec": {
   "display_name": "Python 3",
   "language": "python",
   "name": "python3"
  },
  "language_info": {
   "codemirror_mode": {
    "name": "ipython",
    "version": 3
   },
   "file_extension": ".py",
   "mimetype": "text/x-python",
   "name": "python",
   "nbconvert_exporter": "python",
   "pygments_lexer": "ipython3",
   "version": "3.8.3"
  }
 },
 "nbformat": 4,
 "nbformat_minor": 4
}
